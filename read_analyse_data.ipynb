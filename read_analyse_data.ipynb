{
 "cells": [
  {
   "cell_type": "markdown",
   "metadata": {},
   "source": [
    "Read the data"
   ]
  },
  {
   "cell_type": "code",
   "execution_count": 14,
   "metadata": {},
   "outputs": [],
   "source": [
    "import pandas as pd \n",
    "import numpy as np\n",
    "from sklearn.preprocessing import LabelEncoder\n",
    "import matplotlib.pyplot as plt\n",
    "from sklearn.metrics import precision_score, recall_score, accuracy_score\n",
    "from sklearn import svm\n"
   ]
  },
  {
   "cell_type": "code",
   "execution_count": 23,
   "metadata": {},
   "outputs": [
    {
     "name": "stdout",
     "output_type": "stream",
     "text": [
      "\n",
      "Overall Metrics for kidney_disease.csv:\n",
      "Overall Accuracy: 0.9875, Overall Precision: 0.9739, Overall Recall: 0.9933\n",
      "\n",
      "\n",
      "Overall Metrics for data_banknote_authentication.txt:\n",
      "Overall Accuracy: 1.0000, Overall Precision: 1.0000, Overall Recall: 1.0000\n",
      "\n"
     ]
    }
   ],
   "source": [
    "num_parts= 10\n",
    "data_names=['kidney_disease.csv','data_banknote_authentication.txt']\n",
    "datasets = {}\n",
    "for name in data_names:\n",
    "    total_y_pred=[]\n",
    "    total_y_test=[]\n",
    "    for i in range(num_parts):\n",
    "        # Read the test CSV files\n",
    "        df_test = pd.read_csv(f'test_{name[:-4]}_{i}{name[-4:]}')\n",
    "        df_train = pd.read_csv(f'train_{name[:-4]}_{i}{name[-4:]}')\n",
    "        X_train=df_train.iloc[:, :-1]\n",
    "        X_test= df_test.iloc[:, :-1]\n",
    "        y_train=df_train.iloc[:, -1]\n",
    "        y_test=df_test.iloc[:, -1]\n",
    "        model= svm.SVC()\n",
    "        model.fit(X_train, y_train)\n",
    "        y_pred = model.predict(X_test)\n",
    "        # Store predictions and true labels\n",
    "        total_y_pred.extend(y_pred)\n",
    "        total_y_test.extend(y_test)\n",
    "\n",
    "     \n",
    "    # After all folds, calculate overall precision and recall\n",
    "    overall_precision = precision_score(total_y_test, total_y_pred, average='binary')\n",
    "    overall_recall = recall_score(total_y_test, total_y_pred, average='binary')\n",
    "    overall_accuracy = accuracy_score(total_y_test, total_y_pred)\n",
    "\n",
    "    print(f\"\\nOverall Metrics for {name}:\")\n",
    "    print(f\"Overall Accuracy: {overall_accuracy:.4f}, Overall Precision: {overall_precision:.4f}, Overall Recall: {overall_recall:.4f}\\n\")"
   ]
  }
 ],
 "metadata": {
  "kernelspec": {
   "display_name": "base",
   "language": "python",
   "name": "python3"
  },
  "language_info": {
   "codemirror_mode": {
    "name": "ipython",
    "version": 3
   },
   "file_extension": ".py",
   "mimetype": "text/x-python",
   "name": "python",
   "nbconvert_exporter": "python",
   "pygments_lexer": "ipython3",
   "version": "3.12.3"
  }
 },
 "nbformat": 4,
 "nbformat_minor": 2
}
